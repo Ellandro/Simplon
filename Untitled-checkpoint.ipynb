{
 "cells": [
  {
   "cell_type": "code",
   "execution_count": 1,
   "id": "347f3f16",
   "metadata": {},
   "outputs": [
    {
     "name": "stdout",
     "output_type": "stream",
     "text": [
      "[1 5 7 8]\n"
     ]
    }
   ],
   "source": [
    "import numpy as np\n",
    "from random import randint, randrange\n",
    "\n",
    "\n",
    "\n",
    "#Question 1\n",
    "tab1 = np.array([1,5,7,8])\n",
    "print(tab1)\n",
    "\n"
   ]
  },
  {
   "cell_type": "code",
   "execution_count": 2,
   "id": "650628cc",
   "metadata": {},
   "outputs": [
    {
     "name": "stdout",
     "output_type": "stream",
     "text": [
      "[1 2 3 4 5 6 7 8 9]\n"
     ]
    }
   ],
   "source": [
    "#Question 2\n",
    "tab2 = np.arange(1,10)\n",
    "print(tab2)"
   ]
  },
  {
   "cell_type": "code",
   "execution_count": 3,
   "id": "cf8c2721",
   "metadata": {},
   "outputs": [
    {
     "name": "stdout",
     "output_type": "stream",
     "text": [
      "[[0. 0. 0. 0. 0. 0. 0. 0. 0. 0.]]\n"
     ]
    }
   ],
   "source": [
    "#Question 3\n",
    "tab0 = np.zeros([1,10])\n",
    "print(tab0)\n"
   ]
  },
  {
   "cell_type": "code",
   "execution_count": 4,
   "id": "caf411e3",
   "metadata": {},
   "outputs": [
    {
     "name": "stdout",
     "output_type": "stream",
     "text": [
      "[[0. 0. 0. 0. 0.]\n",
      " [0. 0. 0. 0. 0.]]\n"
     ]
    }
   ],
   "source": [
    "#Question4\n",
    "tab4 = np.zeros([2,5])\n",
    "print(tab4)"
   ]
  },
  {
   "cell_type": "code",
   "execution_count": 5,
   "id": "58ef2962",
   "metadata": {},
   "outputs": [
    {
     "name": "stdout",
     "output_type": "stream",
     "text": [
      "[[1. 1. 1. 1. 1. 1. 1. 1. 1. 1.]]\n"
     ]
    }
   ],
   "source": [
    "#Question 5\n",
    "\n",
    "tab5 = np.ones([1,10])\n",
    "print(tab5)"
   ]
  },
  {
   "cell_type": "code",
   "execution_count": 6,
   "id": "733600e7",
   "metadata": {},
   "outputs": [
    {
     "name": "stdout",
     "output_type": "stream",
     "text": [
      "[[1. 1. 1. 1. 1.]\n",
      " [1. 1. 1. 1. 1.]]\n"
     ]
    }
   ],
   "source": [
    "# Question 6\n",
    "tab6 = np.ones([2,5])\n",
    "print(tab6)"
   ]
  },
  {
   "cell_type": "code",
   "execution_count": 8,
   "id": "ea822e59",
   "metadata": {},
   "outputs": [
    {
     "name": "stdout",
     "output_type": "stream",
     "text": [
      "[[8.5 8.5 8.5 8.5 8.5 8.5 8.5 8.5 8.5 8.5]]\n"
     ]
    }
   ],
   "source": [
    "# Question 7\n",
    "tab7 = np.full((1,10),8.5)\n",
    "print(tab7)"
   ]
  },
  {
   "cell_type": "code",
   "execution_count": 7,
   "id": "829385eb",
   "metadata": {},
   "outputs": [
    {
     "name": "stdout",
     "output_type": "stream",
     "text": [
      "[1 2 3 4 5 6 7 8 9]\n"
     ]
    }
   ],
   "source": [
    "#Question 8\n",
    "tab8 = np.arange(1,10)\n",
    "print(tab8)"
   ]
  },
  {
   "cell_type": "code",
   "execution_count": null,
   "id": "c7cdeade",
   "metadata": {},
   "outputs": [],
   "source": [
    "# Question 9\n",
    "tab9 =  np.arange(1,10).reshape(3, 3)\n",
    "print(tab9)"
   ]
  },
  {
   "cell_type": "code",
   "execution_count": 9,
   "id": "8930b399",
   "metadata": {},
   "outputs": [
    {
     "name": "stdout",
     "output_type": "stream",
     "text": [
      "[[1. 0. 0. 0.]\n",
      " [0. 1. 0. 0.]\n",
      " [0. 0. 1. 0.]\n",
      " [0. 0. 0. 1.]]\n"
     ]
    }
   ],
   "source": [
    "# Question 10\n",
    "tab10 = np.eye(4,4)\n",
    "print(tab10)"
   ]
  },
  {
   "cell_type": "code",
   "execution_count": 10,
   "id": "0c6a1c2c",
   "metadata": {},
   "outputs": [
    {
     "name": "stdout",
     "output_type": "stream",
     "text": [
      "[0 0 0 0 0 0 0 0 0 0 0 0 0 0 0 0 0 0 0 0]\n"
     ]
    }
   ],
   "source": [
    "# Question 11\n",
    "tab11 = np.random.randint(0,1, 20)\n",
    "print(tab11)"
   ]
  },
  {
   "cell_type": "code",
   "execution_count": 11,
   "id": "106b0220",
   "metadata": {},
   "outputs": [
    {
     "name": "stdout",
     "output_type": "stream",
     "text": [
      "[ 7  1  5  9  3 10  3  4  7  3  8  2  1  9  5 10  4  2  1  1]\n"
     ]
    }
   ],
   "source": [
    "#Question 12\n",
    "tab12 = np.random.randint(1,11,20)\n",
    "print(tab12)"
   ]
  },
  {
   "cell_type": "code",
   "execution_count": 12,
   "id": "a054ca47",
   "metadata": {},
   "outputs": [
    {
     "name": "stdout",
     "output_type": "stream",
     "text": [
      "[[ 1  1  4  4  4]\n",
      " [ 7  2  6  3  6]\n",
      " [ 8  7 10  7  1]\n",
      " [ 7  5  6  5  5]]\n"
     ]
    }
   ],
   "source": [
    "#Question 14\n",
    "\n",
    "tab13 = np.random.randint(1,11,(4,5))\n",
    "print(tab13)"
   ]
  },
  {
   "cell_type": "code",
   "execution_count": 13,
   "id": "51fd86bd",
   "metadata": {},
   "outputs": [
    {
     "name": "stdout",
     "output_type": "stream",
     "text": [
      "[0.   0.25 0.5  0.75 1.  ]\n"
     ]
    }
   ],
   "source": [
    "# Qusetion 15\n",
    "tab14 = np.linspace(0,1,5)\n",
    "print(tab14)"
   ]
  },
  {
   "cell_type": "code",
   "execution_count": 14,
   "id": "986e4e83",
   "metadata": {},
   "outputs": [
    {
     "name": "stdout",
     "output_type": "stream",
     "text": [
      "Le nombre de ligne 3\n",
      "Le nombre de colonne 3\n"
     ]
    }
   ],
   "source": [
    "# Exercice 2\n",
    "a = np.array([[1,2,3],[4,5,6],[7,8,9]])\n",
    "ligne = a.shape[0] #Le nombre de ligne\n",
    "col = a.shape[1] #Le nombre de colonne\n",
    "print(\"Le nombre de ligne\",ligne)\n",
    "print(\"Le nombre de colonne\",col)"
   ]
  },
  {
   "cell_type": "code",
   "execution_count": 15,
   "id": "f7c6fd28",
   "metadata": {},
   "outputs": [
    {
     "name": "stdout",
     "output_type": "stream",
     "text": [
      "(3, 3)\n",
      "int32\n"
     ]
    }
   ],
   "source": [
    "dim = a.shape\n",
    "print(dim)\n",
    "typ = a.dtype\n",
    "print(typ)"
   ]
  },
  {
   "cell_type": "code",
   "execution_count": 16,
   "id": "27e6820d",
   "metadata": {},
   "outputs": [
    {
     "name": "stdout",
     "output_type": "stream",
     "text": [
      "5\n"
     ]
    }
   ],
   "source": [
    "tab = np.array([[1,2,3],[4,5,6],[7,8,9]])\n",
    "print(tab[1,1]) #Question 1"
   ]
  },
  {
   "cell_type": "code",
   "execution_count": 17,
   "id": "77376d8a",
   "metadata": {},
   "outputs": [
    {
     "name": "stdout",
     "output_type": "stream",
     "text": [
      "[3 6 9]\n"
     ]
    }
   ],
   "source": [
    "tab[1,1]=0 #Question 2\n",
    "\n",
    "print(tab[:,2])# Question 3"
   ]
  },
  {
   "cell_type": "code",
   "execution_count": 18,
   "id": "b1b3b6ec",
   "metadata": {},
   "outputs": [
    {
     "name": "stdout",
     "output_type": "stream",
     "text": [
      "[[6 5 3]\n",
      " [4 5 0]\n",
      " [5 5 0]\n",
      " [5 6 5]]\n"
     ]
    }
   ],
   "source": [
    "# Question4\n",
    "tab_nouvo = np.random.randint(0,10,(4,3))\n",
    "print(tab_nouvo)\n"
   ]
  },
  {
   "cell_type": "code",
   "execution_count": 19,
   "id": "12eaa59c",
   "metadata": {},
   "outputs": [
    {
     "name": "stdout",
     "output_type": "stream",
     "text": [
      "[[9 5 6]\n",
      " [9 8 8]\n",
      " [4 3 9]\n",
      " [5 0 0]]\n"
     ]
    }
   ],
   "source": [
    "# Question4\n",
    "tab_nouvo = np.random.randint(0,10,(4,3))\n",
    "print(tab_nouvo)"
   ]
  },
  {
   "cell_type": "code",
   "execution_count": 20,
   "id": "26918a0d",
   "metadata": {},
   "outputs": [
    {
     "name": "stdout",
     "output_type": "stream",
     "text": [
      "True\n"
     ]
    }
   ],
   "source": [
    "verif = np.any(tab_nouvo<5)# Question 5\n",
    "print(verif)"
   ]
  },
  {
   "cell_type": "code",
   "execution_count": 21,
   "id": "dcc044d6",
   "metadata": {},
   "outputs": [
    {
     "name": "stdout",
     "output_type": "stream",
     "text": [
      "[[9 5 6]\n",
      " [9 8 8]\n",
      " [0 0 9]\n",
      " [5 0 0]]\n"
     ]
    }
   ],
   "source": [
    "#Question 6\n",
    "\n",
    "tab_nouvo = np.where(tab_nouvo<5,0,tab_nouvo)\n",
    "print(tab_nouvo)\n"
   ]
  },
  {
   "cell_type": "code",
   "execution_count": 23,
   "id": "20fa9264",
   "metadata": {},
   "outputs": [
    {
     "name": "stdout",
     "output_type": "stream",
     "text": [
      "[[8 9 7]\n",
      " [3 6 3]\n",
      " [6 9 1]\n",
      " [3 8 8]]\n"
     ]
    }
   ],
   "source": [
    "#Exercice4\n",
    "table = np.random.randint(0,10,(4,3))\n",
    "print(table)"
   ]
  },
  {
   "cell_type": "code",
   "execution_count": 24,
   "id": "586274ae",
   "metadata": {},
   "outputs": [
    {
     "name": "stdout",
     "output_type": "stream",
     "text": [
      "int32\n"
     ]
    }
   ],
   "source": [
    "print(table.dtype)"
   ]
  },
  {
   "cell_type": "code",
   "execution_count": 58,
   "id": "a3a0a60b",
   "metadata": {},
   "outputs": [
    {
     "name": "stdout",
     "output_type": "stream",
     "text": [
      "float32\n",
      "[8. 9. 7. 3. 3. 6. 3. 6. 9. 1. 3. 8. 8. 3. 3. 3. 3. 3. 3. 3. 3. 3.]\n"
     ]
    }
   ],
   "source": [
    "table = table.astype(np.float32)\n",
    "print(table.dtype)\n",
    "print(table)"
   ]
  },
  {
   "cell_type": "code",
   "execution_count": 80,
   "id": "7e14dc40",
   "metadata": {},
   "outputs": [
    {
     "name": "stdout",
     "output_type": "stream",
     "text": [
      "[8. 9. 7. 3. 3. 6. 3. 6. 9. 1. 3. 8. 3.]\n",
      "[8. 9. 7. 3. 3. 6. 3. 6. 9. 1. 3. 8.]\n"
     ]
    }
   ],
   "source": [
    "table = np.append(table, 3)\n",
    "print(table)\n",
    "table = np.delete(table,12)\n",
    "print(table)"
   ]
  },
  {
   "cell_type": "code",
   "execution_count": 79,
   "id": "7b5cb447",
   "metadata": {},
   "outputs": [
    {
     "name": "stdout",
     "output_type": "stream",
     "text": [
      "[[8. 9. 7. 3.]\n",
      " [3. 6. 3. 6.]\n",
      " [9. 1. 3. 8.]]\n"
     ]
    }
   ],
   "source": [
    "table = table.reshape(3,4)\n",
    "print(table)"
   ]
  },
  {
   "cell_type": "code",
   "execution_count": 108,
   "id": "945bd5d7",
   "metadata": {},
   "outputs": [
    {
     "name": "stdout",
     "output_type": "stream",
     "text": [
      "[[ 1  2  3  4]\n",
      " [ 5  6  7  8]\n",
      " [ 9 10 11 12]]\n"
     ]
    }
   ],
   "source": [
    "b = np.arange(1,13).reshape(3,4)\n",
    "print(b)\n"
   ]
  },
  {
   "cell_type": "code",
   "execution_count": 110,
   "id": "fe55ecc9",
   "metadata": {},
   "outputs": [
    {
     "name": "stdout",
     "output_type": "stream",
     "text": [
      "[[8. 9. 7. 3.]\n",
      " [3. 6. 3. 6.]\n",
      " [9. 1. 3. 8.]]\n",
      "[[ 1  2  3  4]\n",
      " [ 5  6  7  8]\n",
      " [ 9 10 11 12]]\n"
     ]
    }
   ],
   "source": [
    "a1 = table.reshape(3,4)\n",
    "print(a1)\n",
    "\n",
    "print(b)"
   ]
  },
  {
   "cell_type": "code",
   "execution_count": 112,
   "id": "87c9ba3b",
   "metadata": {},
   "outputs": [
    {
     "name": "stdout",
     "output_type": "stream",
     "text": [
      "[[ 8.  9.  7.  3.  1.  2.  3.  4.]\n",
      " [ 3.  6.  3.  6.  5.  6.  7.  8.]\n",
      " [ 9.  1.  3.  8.  9. 10. 11. 12.]]\n"
     ]
    }
   ],
   "source": [
    "c=np.hstack((a1,b))\n",
    "print(c)"
   ]
  },
  {
   "cell_type": "code",
   "execution_count": 115,
   "id": "bc5ab6eb",
   "metadata": {},
   "outputs": [
    {
     "name": "stdout",
     "output_type": "stream",
     "text": [
      "[[ 1.  2.  3.  4.]\n",
      " [ 5.  6.  7.  8.]\n",
      " [ 9. 10. 11. 12.]\n",
      " [ 8.  9.  7.  3.]\n",
      " [ 3.  6.  3.  6.]\n",
      " [ 9.  1.  3.  8.]]\n"
     ]
    }
   ],
   "source": [
    "d = np.vstack((b,a1))\n",
    "print(d)"
   ]
  },
  {
   "cell_type": "code",
   "execution_count": 116,
   "id": "2896bcbf",
   "metadata": {},
   "outputs": [
    {
     "data": {
      "text/plain": [
       "array([ 1.,  2.,  3.,  4.,  5.,  6.,  7.,  8.,  9., 10., 11., 12.,  8.,\n",
       "        9.,  7.,  3.,  3.,  6.,  3.,  6.,  9.,  1.,  3.,  8.])"
      ]
     },
     "execution_count": 116,
     "metadata": {},
     "output_type": "execute_result"
    }
   ],
   "source": [
    "d.ravel()"
   ]
  },
  {
   "cell_type": "code",
   "execution_count": 118,
   "id": "62dcf904",
   "metadata": {},
   "outputs": [],
   "source": [
    "#d=np.delete(d,-1)"
   ]
  },
  {
   "cell_type": "code",
   "execution_count": 121,
   "id": "4debf307",
   "metadata": {},
   "outputs": [
    {
     "name": "stdout",
     "output_type": "stream",
     "text": [
      "45\n"
     ]
    }
   ],
   "source": [
    "#Statistique avec numpy\n",
    "stat = np.array([[1,2,3],[4,5,6],[7,8,9]])\n",
    "som = np.sum(stat)\n",
    "print(som)"
   ]
  },
  {
   "cell_type": "code",
   "execution_count": 122,
   "id": "9cd835a5",
   "metadata": {},
   "outputs": [
    {
     "name": "stdout",
     "output_type": "stream",
     "text": [
      "[12 15 18]\n"
     ]
    }
   ],
   "source": [
    "som_col = np.sum(stat, axis=0)\n",
    "print(som_col)"
   ]
  },
  {
   "cell_type": "code",
   "execution_count": 123,
   "id": "0bdc9bb1",
   "metadata": {},
   "outputs": [
    {
     "name": "stdout",
     "output_type": "stream",
     "text": [
      "[ 6 15 24]\n"
     ]
    }
   ],
   "source": [
    "som_lign = np.sum(stat, axis=1)\n",
    "print(som_lign)"
   ]
  },
  {
   "cell_type": "code",
   "execution_count": 124,
   "id": "ff7b0d9b",
   "metadata": {},
   "outputs": [
    {
     "name": "stdout",
     "output_type": "stream",
     "text": [
      "[ 28  80 162]\n"
     ]
    }
   ],
   "source": [
    "pro_col = np.prod(stat,axis=0)\n",
    "print(pro_col)"
   ]
  },
  {
   "cell_type": "code",
   "execution_count": 125,
   "id": "c28cf785",
   "metadata": {},
   "outputs": [
    {
     "name": "stdout",
     "output_type": "stream",
     "text": [
      "1\n"
     ]
    }
   ],
   "source": [
    "minim = np.min(stat)\n",
    "print(minim)"
   ]
  },
  {
   "cell_type": "code",
   "execution_count": 126,
   "id": "06c3674c",
   "metadata": {},
   "outputs": [
    {
     "name": "stdout",
     "output_type": "stream",
     "text": [
      "9\n"
     ]
    }
   ],
   "source": [
    "maxi = np.max(stat)\n",
    "print(maxi)"
   ]
  },
  {
   "cell_type": "code",
   "execution_count": 127,
   "id": "2c35b495",
   "metadata": {},
   "outputs": [
    {
     "name": "stdout",
     "output_type": "stream",
     "text": [
      "5.0\n"
     ]
    }
   ],
   "source": [
    "moy = np.mean(stat)\n",
    "print(moy)"
   ]
  },
  {
   "cell_type": "code",
   "execution_count": 130,
   "id": "b4b87196",
   "metadata": {},
   "outputs": [
    {
     "name": "stdout",
     "output_type": "stream",
     "text": [
      "6.666666666666667\n"
     ]
    }
   ],
   "source": [
    "variance = np.var(stat)\n",
    "print(variance)"
   ]
  },
  {
   "cell_type": "code",
   "execution_count": 128,
   "id": "be1470e5",
   "metadata": {},
   "outputs": [
    {
     "name": "stdout",
     "output_type": "stream",
     "text": [
      "2.581988897471611\n"
     ]
    }
   ],
   "source": [
    "ecart = np.std(stat)\n",
    "print(ecart)"
   ]
  }
 ],
 "metadata": {
  "kernelspec": {
   "display_name": "Python 3 (ipykernel)",
   "language": "python",
   "name": "python3"
  },
  "language_info": {
   "codemirror_mode": {
    "name": "ipython",
    "version": 3
   },
   "file_extension": ".py",
   "mimetype": "text/x-python",
   "name": "python",
   "nbconvert_exporter": "python",
   "pygments_lexer": "ipython3",
   "version": "3.11.4"
  }
 },
 "nbformat": 4,
 "nbformat_minor": 5
}
